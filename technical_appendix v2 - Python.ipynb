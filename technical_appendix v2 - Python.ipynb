{
 "cells": [
  {
   "cell_type": "markdown",
   "id": "a1e136bc",
   "metadata": {},
   "source": [
    "# Technical Appendix"
   ]
  },
  {
   "cell_type": "markdown",
   "id": "899143f2",
   "metadata": {},
   "source": [
    "## 1. Import Necessay Libraries"
   ]
  },
  {
   "cell_type": "markdown",
   "id": "485d9d10",
   "metadata": {},
   "source": [
    "Note: Please make sure the installed scikit-learn version is 1.2.2\n",
    "\n",
    "Otherwise there will be conflicts between packagaes and the importing code block won't work\n",
    "\n",
    "To do so, you can type following commands in the Anaconda Prompt:\n",
    "*  _pip uninstall scikit-learn_\n",
    "*  _pip install scikit-learn==1.2.2_"
   ]
  },
  {
   "cell_type": "code",
   "execution_count": 1,
   "id": "f83a9be3",
   "metadata": {},
   "outputs": [],
   "source": [
    "# Import necessary libraries \n",
    "import matplotlib\n",
    "from matplotlib import pyplot as plt\n",
    "import seaborn as sns\n",
    "import pandas as pd\n",
    "import numpy as np\n",
    "from sklearn.calibration import calibration_curve\n",
    "from sklearn.metrics import brier_score_loss\n",
    "from sklearn.preprocessing import OrdinalEncoder, OneHotEncoder, StandardScaler\n",
    "from sklearn.model_selection import train_test_split, RandomizedSearchCV\n",
    "from sklearn.linear_model import LogisticRegression\n",
    "from sklearn.tree import DecisionTreeClassifier\n",
    "from sklearn.ensemble import RandomForestClassifier\n",
    "from sklearn.feature_selection import RFECV\n",
    "from imblearn.pipeline import make_pipeline as make_imb_pipeline\n",
    "from imblearn.over_sampling import RandomOverSampler, SMOTE, SMOTENC\n",
    "from imblearn.combine import SMOTETomek\n",
    "from imblearn.under_sampling import RandomUnderSampler\n",
    "from sklearn.metrics import accuracy_score, confusion_matrix, precision_score, recall_score, f1_score, roc_auc_score\n",
    "from sklearn.metrics import precision_recall_curve\n",
    "from sklearn.metrics import auc"
   ]
  },
  {
   "cell_type": "markdown",
   "id": "ffe5d187",
   "metadata": {},
   "source": [
    "## 2. Data Exploration"
   ]
  },
  {
   "cell_type": "markdown",
   "id": "334b67df",
   "metadata": {},
   "source": [
    "### 2.1 Dataset Overview"
   ]
  },
  {
   "cell_type": "code",
   "execution_count": 2,
   "id": "9b830ef4",
   "metadata": {},
   "outputs": [
    {
     "data": {
      "text/html": [
       "<div>\n",
       "<style scoped>\n",
       "    .dataframe tbody tr th:only-of-type {\n",
       "        vertical-align: middle;\n",
       "    }\n",
       "\n",
       "    .dataframe tbody tr th {\n",
       "        vertical-align: top;\n",
       "    }\n",
       "\n",
       "    .dataframe thead th {\n",
       "        text-align: right;\n",
       "    }\n",
       "</style>\n",
       "<table border=\"1\" class=\"dataframe\">\n",
       "  <thead>\n",
       "    <tr style=\"text-align: right;\">\n",
       "      <th></th>\n",
       "      <th>CLIENTNUM</th>\n",
       "      <th>Attrition_Flag</th>\n",
       "      <th>Customer_Age</th>\n",
       "      <th>Gender</th>\n",
       "      <th>Dependent_count</th>\n",
       "      <th>Education_Level</th>\n",
       "      <th>Marital_Status</th>\n",
       "      <th>Income_Category</th>\n",
       "      <th>Card_Category</th>\n",
       "      <th>Months_on_book</th>\n",
       "      <th>...</th>\n",
       "      <th>Months_Inactive_12_mon</th>\n",
       "      <th>Contacts_Count_12_mon</th>\n",
       "      <th>Credit_Limit</th>\n",
       "      <th>Total_Revolving_Bal</th>\n",
       "      <th>Avg_Open_To_Buy</th>\n",
       "      <th>Total_Amt_Chng_Q4_Q1</th>\n",
       "      <th>Total_Trans_Amt</th>\n",
       "      <th>Total_Trans_Ct</th>\n",
       "      <th>Total_Ct_Chng_Q4_Q1</th>\n",
       "      <th>Avg_Utilization_Ratio</th>\n",
       "    </tr>\n",
       "  </thead>\n",
       "  <tbody>\n",
       "    <tr>\n",
       "      <th>0</th>\n",
       "      <td>768805383</td>\n",
       "      <td>Existing Customer</td>\n",
       "      <td>45</td>\n",
       "      <td>M</td>\n",
       "      <td>3</td>\n",
       "      <td>High School</td>\n",
       "      <td>Married</td>\n",
       "      <td>$60K - $80K</td>\n",
       "      <td>Blue</td>\n",
       "      <td>39</td>\n",
       "      <td>...</td>\n",
       "      <td>1</td>\n",
       "      <td>3</td>\n",
       "      <td>12691.0</td>\n",
       "      <td>777</td>\n",
       "      <td>11914.0</td>\n",
       "      <td>1.335</td>\n",
       "      <td>1144</td>\n",
       "      <td>42</td>\n",
       "      <td>1.625</td>\n",
       "      <td>0.061</td>\n",
       "    </tr>\n",
       "    <tr>\n",
       "      <th>1</th>\n",
       "      <td>818770008</td>\n",
       "      <td>Existing Customer</td>\n",
       "      <td>49</td>\n",
       "      <td>F</td>\n",
       "      <td>5</td>\n",
       "      <td>Graduate</td>\n",
       "      <td>Single</td>\n",
       "      <td>Less than $40K</td>\n",
       "      <td>Blue</td>\n",
       "      <td>44</td>\n",
       "      <td>...</td>\n",
       "      <td>1</td>\n",
       "      <td>2</td>\n",
       "      <td>8256.0</td>\n",
       "      <td>864</td>\n",
       "      <td>7392.0</td>\n",
       "      <td>1.541</td>\n",
       "      <td>1291</td>\n",
       "      <td>33</td>\n",
       "      <td>3.714</td>\n",
       "      <td>0.105</td>\n",
       "    </tr>\n",
       "    <tr>\n",
       "      <th>2</th>\n",
       "      <td>713982108</td>\n",
       "      <td>Existing Customer</td>\n",
       "      <td>51</td>\n",
       "      <td>M</td>\n",
       "      <td>3</td>\n",
       "      <td>Graduate</td>\n",
       "      <td>Married</td>\n",
       "      <td>$80K - $120K</td>\n",
       "      <td>Blue</td>\n",
       "      <td>36</td>\n",
       "      <td>...</td>\n",
       "      <td>1</td>\n",
       "      <td>0</td>\n",
       "      <td>3418.0</td>\n",
       "      <td>0</td>\n",
       "      <td>3418.0</td>\n",
       "      <td>2.594</td>\n",
       "      <td>1887</td>\n",
       "      <td>20</td>\n",
       "      <td>2.333</td>\n",
       "      <td>0.000</td>\n",
       "    </tr>\n",
       "    <tr>\n",
       "      <th>3</th>\n",
       "      <td>769911858</td>\n",
       "      <td>Existing Customer</td>\n",
       "      <td>40</td>\n",
       "      <td>F</td>\n",
       "      <td>4</td>\n",
       "      <td>High School</td>\n",
       "      <td>Unknown</td>\n",
       "      <td>Less than $40K</td>\n",
       "      <td>Blue</td>\n",
       "      <td>34</td>\n",
       "      <td>...</td>\n",
       "      <td>4</td>\n",
       "      <td>1</td>\n",
       "      <td>3313.0</td>\n",
       "      <td>2517</td>\n",
       "      <td>796.0</td>\n",
       "      <td>1.405</td>\n",
       "      <td>1171</td>\n",
       "      <td>20</td>\n",
       "      <td>2.333</td>\n",
       "      <td>0.760</td>\n",
       "    </tr>\n",
       "    <tr>\n",
       "      <th>4</th>\n",
       "      <td>709106358</td>\n",
       "      <td>Existing Customer</td>\n",
       "      <td>40</td>\n",
       "      <td>M</td>\n",
       "      <td>3</td>\n",
       "      <td>Uneducated</td>\n",
       "      <td>Married</td>\n",
       "      <td>$60K - $80K</td>\n",
       "      <td>Blue</td>\n",
       "      <td>21</td>\n",
       "      <td>...</td>\n",
       "      <td>1</td>\n",
       "      <td>0</td>\n",
       "      <td>4716.0</td>\n",
       "      <td>0</td>\n",
       "      <td>4716.0</td>\n",
       "      <td>2.175</td>\n",
       "      <td>816</td>\n",
       "      <td>28</td>\n",
       "      <td>2.500</td>\n",
       "      <td>0.000</td>\n",
       "    </tr>\n",
       "  </tbody>\n",
       "</table>\n",
       "<p>5 rows × 21 columns</p>\n",
       "</div>"
      ],
      "text/plain": [
       "   CLIENTNUM     Attrition_Flag  Customer_Age Gender  Dependent_count  \\\n",
       "0  768805383  Existing Customer            45      M                3   \n",
       "1  818770008  Existing Customer            49      F                5   \n",
       "2  713982108  Existing Customer            51      M                3   \n",
       "3  769911858  Existing Customer            40      F                4   \n",
       "4  709106358  Existing Customer            40      M                3   \n",
       "\n",
       "  Education_Level Marital_Status Income_Category Card_Category  \\\n",
       "0     High School        Married     $60K - $80K          Blue   \n",
       "1        Graduate         Single  Less than $40K          Blue   \n",
       "2        Graduate        Married    $80K - $120K          Blue   \n",
       "3     High School        Unknown  Less than $40K          Blue   \n",
       "4      Uneducated        Married     $60K - $80K          Blue   \n",
       "\n",
       "   Months_on_book  ...  Months_Inactive_12_mon  Contacts_Count_12_mon  \\\n",
       "0              39  ...                       1                      3   \n",
       "1              44  ...                       1                      2   \n",
       "2              36  ...                       1                      0   \n",
       "3              34  ...                       4                      1   \n",
       "4              21  ...                       1                      0   \n",
       "\n",
       "   Credit_Limit  Total_Revolving_Bal  Avg_Open_To_Buy  Total_Amt_Chng_Q4_Q1  \\\n",
       "0       12691.0                  777          11914.0                 1.335   \n",
       "1        8256.0                  864           7392.0                 1.541   \n",
       "2        3418.0                    0           3418.0                 2.594   \n",
       "3        3313.0                 2517            796.0                 1.405   \n",
       "4        4716.0                    0           4716.0                 2.175   \n",
       "\n",
       "   Total_Trans_Amt  Total_Trans_Ct  Total_Ct_Chng_Q4_Q1  Avg_Utilization_Ratio  \n",
       "0             1144              42                1.625                  0.061  \n",
       "1             1291              33                3.714                  0.105  \n",
       "2             1887              20                2.333                  0.000  \n",
       "3             1171              20                2.333                  0.760  \n",
       "4              816              28                2.500                  0.000  \n",
       "\n",
       "[5 rows x 21 columns]"
      ]
     },
     "execution_count": 2,
     "metadata": {},
     "output_type": "execute_result"
    }
   ],
   "source": [
    "# Import data\n",
    "df = pd.read_csv(\"BankChurners.csv\", usecols=list(range(0,21)))\n",
    "df.head()"
   ]
  },
  {
   "cell_type": "markdown",
   "id": "edfad9e6",
   "metadata": {},
   "source": [
    "### 2.2 Check Distribution of Target Feature:  Attrition_Flag"
   ]
  },
  {
   "cell_type": "code",
   "execution_count": 3,
   "id": "95a40f29",
   "metadata": {
    "scrolled": false
   },
   "outputs": [
    {
     "data": {
      "text/plain": [
       "Text(0.5, 0, 'Attrition_Flag')"
      ]
     },
     "execution_count": 3,
     "metadata": {},
     "output_type": "execute_result"
    },
    {
     "data": {
      "image/png": "[encoded data removed]",
      "text/plain": [
       "<Figure size 640x480 with 1 Axes>"
      ]
     },
     "metadata": {},
     "output_type": "display_data"
    }
   ],
   "source": [
    "colors = ['#39008E', '#008823']\n",
    "sns.set_palette(sns.color_palette(colors))\n",
    "sns.countplot(x=\"Attrition_Flag\", data=df)\n",
    "plt.title(\"The number of customers who canceled their credit card vs customers who stayed.\")\n",
    "plt.ylabel(\"The number of customers\")\n",
    "plt.xlabel(\"Attrition_Flag\")"
   ]
  },
  {
   "cell_type": "markdown",
   "id": "7c33e736",
   "metadata": {},
   "source": [
    "From the bar chart above, we can see that the existing customers are over 8000, but the attrited customers are only around 2000. \n",
    "\n",
    "It increases the difficulty for training our model to predict churning customers because of the imbalanced data."
   ]
  },
  {
   "cell_type": "markdown",
   "id": "b05a2f53",
   "metadata": {},
   "source": [
    "### 2.3 Check categorical attribute"
   ]
  },
  {
   "cell_type": "code",
   "execution_count": 4,
   "id": "9ac33b93",
   "metadata": {},
   "outputs": [
    {
     "data": {
      "text/html": [
       "<div>\n",
       "<style scoped>\n",
       "    .dataframe tbody tr th:only-of-type {\n",
       "        vertical-align: middle;\n",
       "    }\n",
       "\n",
       "    .dataframe tbody tr th {\n",
       "        vertical-align: top;\n",
       "    }\n",
       "\n",
       "    .dataframe thead th {\n",
       "        text-align: right;\n",
       "    }\n",
       "</style>\n",
       "<table border=\"1\" class=\"dataframe\">\n",
       "  <thead>\n",
       "    <tr style=\"text-align: right;\">\n",
       "      <th></th>\n",
       "      <th>Classes</th>\n",
       "    </tr>\n",
       "  </thead>\n",
       "  <tbody>\n",
       "    <tr>\n",
       "      <th>Attrition_Flag</th>\n",
       "      <td>[Existing Customer, Attrited Customer]</td>\n",
       "    </tr>\n",
       "    <tr>\n",
       "      <th>Gender</th>\n",
       "      <td>[F, M]</td>\n",
       "    </tr>\n",
       "    <tr>\n",
       "      <th>Education_Level</th>\n",
       "      <td>[Graduate, High School, Unknown, Uneducated, College, Post-Graduate, Doctorate]</td>\n",
       "    </tr>\n",
       "    <tr>\n",
       "      <th>Marital_Status</th>\n",
       "      <td>[Married, Single, Unknown, Divorced]</td>\n",
       "    </tr>\n",
       "    <tr>\n",
       "      <th>Income_Category</th>\n",
       "      <td>[Less than $40K, $40K - $60K, $80K - $120K, $60K - $80K, Unknown, $120K +]</td>\n",
       "    </tr>\n",
       "    <tr>\n",
       "      <th>Card_Category</th>\n",
       "      <td>[Blue, Silver, Gold, Platinum]</td>\n",
       "    </tr>\n",
       "  </tbody>\n",
       "</table>\n",
       "</div>"
      ],
      "text/plain": [
       "                                                                                         Classes\n",
       "Attrition_Flag   [Existing Customer, Attrited Customer]                                         \n",
       "Gender           [F, M]                                                                         \n",
       "Education_Level  [Graduate, High School, Unknown, Uneducated, College, Post-Graduate, Doctorate]\n",
       "Marital_Status   [Married, Single, Unknown, Divorced]                                           \n",
       "Income_Category  [Less than $40K, $40K - $60K, $80K - $120K, $60K - $80K, Unknown, $120K +]     \n",
       "Card_Category    [Blue, Silver, Gold, Platinum]                                                 "
      ]
     },
     "execution_count": 4,
     "metadata": {},
     "output_type": "execute_result"
    }
   ],
   "source": [
    "# Print the categories for each categorical attribute\n",
    "pd.set_option('display.max_colwidth', 0)\n",
    "cat = []\n",
    "for col_name in df.select_dtypes(include=['object']).columns:\n",
    "    categories_list = df[col_name].value_counts().index.to_list()\n",
    "    cat.append([col_name, categories_list])\n",
    "pd.DataFrame(cat, columns=[\"Column Name\", \"Classes\"]).set_index(\"Column Name\").rename_axis(None)"
   ]
  },
  {
   "cell_type": "markdown",
   "id": "ea4a35b0",
   "metadata": {},
   "source": [
    "## 3. Data Preprocessing"
   ]
  },
  {
   "cell_type": "markdown",
   "id": "abadf1ef",
   "metadata": {},
   "source": [
    "### 3.1 Check Missing values"
   ]
  },
  {
   "cell_type": "code",
   "execution_count": 5,
   "id": "c9a0a100",
   "metadata": {
    "scrolled": false
   },
   "outputs": [
    {
     "data": {
      "text/html": [
       "<div>\n",
       "<style scoped>\n",
       "    .dataframe tbody tr th:only-of-type {\n",
       "        vertical-align: middle;\n",
       "    }\n",
       "\n",
       "    .dataframe tbody tr th {\n",
       "        vertical-align: top;\n",
       "    }\n",
       "\n",
       "    .dataframe thead th {\n",
       "        text-align: right;\n",
       "    }\n",
       "</style>\n",
       "<table border=\"1\" class=\"dataframe\">\n",
       "  <thead>\n",
       "    <tr style=\"text-align: right;\">\n",
       "      <th></th>\n",
       "      <th>Number of missing values</th>\n",
       "    </tr>\n",
       "  </thead>\n",
       "  <tbody>\n",
       "    <tr>\n",
       "      <th>CLIENTNUM</th>\n",
       "      <td>0</td>\n",
       "    </tr>\n",
       "    <tr>\n",
       "      <th>Attrition_Flag</th>\n",
       "      <td>0</td>\n",
       "    </tr>\n",
       "    <tr>\n",
       "      <th>Customer_Age</th>\n",
       "      <td>0</td>\n",
       "    </tr>\n",
       "    <tr>\n",
       "      <th>Gender</th>\n",
       "      <td>0</td>\n",
       "    </tr>\n",
       "    <tr>\n",
       "      <th>Dependent_count</th>\n",
       "      <td>0</td>\n",
       "    </tr>\n",
       "    <tr>\n",
       "      <th>Education_Level</th>\n",
       "      <td>0</td>\n",
       "    </tr>\n",
       "    <tr>\n",
       "      <th>Marital_Status</th>\n",
       "      <td>0</td>\n",
       "    </tr>\n",
       "    <tr>\n",
       "      <th>Income_Category</th>\n",
       "      <td>0</td>\n",
       "    </tr>\n",
       "    <tr>\n",
       "      <th>Card_Category</th>\n",
       "      <td>0</td>\n",
       "    </tr>\n",
       "    <tr>\n",
       "      <th>Months_on_book</th>\n",
       "      <td>0</td>\n",
       "    </tr>\n",
       "    <tr>\n",
       "      <th>Total_Relationship_Count</th>\n",
       "      <td>0</td>\n",
       "    </tr>\n",
       "    <tr>\n",
       "      <th>Months_Inactive_12_mon</th>\n",
       "      <td>0</td>\n",
       "    </tr>\n",
       "    <tr>\n",
       "      <th>Contacts_Count_12_mon</th>\n",
       "      <td>0</td>\n",
       "    </tr>\n",
       "    <tr>\n",
       "      <th>Credit_Limit</th>\n",
       "      <td>0</td>\n",
       "    </tr>\n",
       "    <tr>\n",
       "      <th>Total_Revolving_Bal</th>\n",
       "      <td>0</td>\n",
       "    </tr>\n",
       "    <tr>\n",
       "      <th>Avg_Open_To_Buy</th>\n",
       "      <td>0</td>\n",
       "    </tr>\n",
       "    <tr>\n",
       "      <th>Total_Amt_Chng_Q4_Q1</th>\n",
       "      <td>0</td>\n",
       "    </tr>\n",
       "    <tr>\n",
       "      <th>Total_Trans_Amt</th>\n",
       "      <td>0</td>\n",
       "    </tr>\n",
       "    <tr>\n",
       "      <th>Total_Trans_Ct</th>\n",
       "      <td>0</td>\n",
       "    </tr>\n",
       "    <tr>\n",
       "      <th>Total_Ct_Chng_Q4_Q1</th>\n",
       "      <td>0</td>\n",
       "    </tr>\n",
       "    <tr>\n",
       "      <th>Avg_Utilization_Ratio</th>\n",
       "      <td>0</td>\n",
       "    </tr>\n",
       "  </tbody>\n",
       "</table>\n",
       "</div>"
      ],
      "text/plain": [
       "                          Number of missing values\n",
       "CLIENTNUM                 0                       \n",
       "Attrition_Flag            0                       \n",
       "Customer_Age              0                       \n",
       "Gender                    0                       \n",
       "Dependent_count           0                       \n",
       "Education_Level           0                       \n",
       "Marital_Status            0                       \n",
       "Income_Category           0                       \n",
       "Card_Category             0                       \n",
       "Months_on_book            0                       \n",
       "Total_Relationship_Count  0                       \n",
       "Months_Inactive_12_mon    0                       \n",
       "Contacts_Count_12_mon     0                       \n",
       "Credit_Limit              0                       \n",
       "Total_Revolving_Bal       0                       \n",
       "Avg_Open_To_Buy           0                       \n",
       "Total_Amt_Chng_Q4_Q1      0                       \n",
       "Total_Trans_Amt           0                       \n",
       "Total_Trans_Ct            0                       \n",
       "Total_Ct_Chng_Q4_Q1       0                       \n",
       "Avg_Utilization_Ratio     0                       "
      ]
     },
     "execution_count": 5,
     "metadata": {},
     "output_type": "execute_result"
    }
   ],
   "source": [
    "missing_values = []\n",
    "columns = df.columns.to_list()\n",
    "for column in columns:\n",
    "    null_values = df[column].isnull().sum()\n",
    "    missing_values.append([column, null_values])\n",
    "pd.DataFrame(missing_values, columns=[\"Column Name\", \"Number of missing values\"]).set_index(\"Column Name\").rename_axis(None)"
   ]
  },
  {
   "cell_type": "markdown",
   "id": "cd4c3c58",
   "metadata": {},
   "source": [
    "No missing value found, so we do not need to worry about handling missing data"
   ]
  },
  {
   "cell_type": "markdown",
   "id": "6d1aff71",
   "metadata": {},
   "source": [
    "### 3.2 Check 'unknown' variables"
   ]
  },
  {
   "cell_type": "code",
   "execution_count": 6,
   "id": "12dc54d0",
   "metadata": {},
   "outputs": [
    {
     "name": "stdout",
     "output_type": "stream",
     "text": [
      "'Uknown' observations: 3046 out of 10127\n"
     ]
    }
   ],
   "source": [
    "print(\"'Uknown' observations: {} out of {}\".format((df[(df[\"Education_Level\"] == \"Unknown\") | \n",
    "   (df[\"Marital_Status\"] == \"Unknown\") | \n",
    "   (df[\"Income_Category\"] == \"Unknown\")].shape[0]), df.shape[0]))"
   ]
  },
  {
   "cell_type": "markdown",
   "id": "9e9dcbe9",
   "metadata": {},
   "source": [
    "There are 3046 'Unknown' values existing in our dataset.\n",
    "\n",
    "Rather than removing it, it is important to retain this category, as it can contain a significant amount of information that can be useful in analysis. \n",
    "\n",
    "When encoding the categorical variable that contains 'Unknown' category, we labeled \"Unknown\" category as 0 in the ordinal encoder, which means it will be the first numbered category\n",
    "\n",
    "This approach allows the information contained in the \"Unknown\" category to be preserved while allowing easier numerical analysis of the data."
   ]
  },
  {
   "cell_type": "markdown",
   "id": "d9fb46ff",
   "metadata": {},
   "source": [
    "### 3.3 Encode categorical features"
   ]
  },
  {
   "cell_type": "code",
   "execution_count": 7,
   "id": "b4d28827",
   "metadata": {},
   "outputs": [],
   "source": [
    "import warnings\n",
    "warnings.filterwarnings('ignore')\n",
    "\n",
    "# Defining the encoding variables\n",
    "ordinal_enc_variables = [\"Education_Level\", \"Income_Category\", \"Card_Category\"]\n",
    "one_hot_enc_variables = [\"Gender\", \"Marital_Status\"]\n",
    "\n",
    "# Defining ordinal categories\n",
    "edu_lvl = [\"Unknown\", \"Uneducated\", \"High School\", \"College\", \"Graduate\", \"Post-Graduate\", \"Doctorate\"]\n",
    "income_cat = [\"Unknown\", \"Less than $40K\", \"$40K - $60K\", \"$80K - $120K\", \"$60K - $80K\", \"$120K +\"]\n",
    "card_cat = [\"Blue\", \"Silver\", \"Gold\", \"Platinum\"]\n",
    "\n",
    "# Create a copy of the original dataframe\n",
    "df_encoded = df.copy()\n",
    "\n",
    "# Encode ordinal variables\n",
    "ord_enc = OrdinalEncoder(categories=[edu_lvl, income_cat, card_cat])\n",
    "df_encoded[ordinal_enc_variables] = ord_enc.fit_transform(df_encoded[ordinal_enc_variables])\n",
    "\n",
    "# Encode one-hot variables\n",
    "one_hot_enc = OneHotEncoder(handle_unknown=\"ignore\", sparse=False)\n",
    "one_hot_enc_df = pd.DataFrame(one_hot_enc.fit_transform(df_encoded[one_hot_enc_variables]))\n",
    "one_hot_enc_df.columns = one_hot_enc.get_feature_names_out(one_hot_enc_variables)\n",
    "df_encoded = pd.concat([df_encoded.drop(one_hot_enc_variables, axis=1), one_hot_enc_df], axis=1)\n",
    "\n"
   ]
  },
  {
   "cell_type": "markdown",
   "id": "74e184e5",
   "metadata": {},
   "source": [
    "### 3.4 Data Split to Train and Test Sets"
   ]
  },
  {
   "cell_type": "code",
   "execution_count": 8,
   "id": "202e05dd",
   "metadata": {},
   "outputs": [
    {
     "data": {
      "text/plain": [
       "Index(['Customer_Age', 'Dependent_count', 'Education_Level', 'Income_Category',\n",
       "       'Card_Category', 'Months_on_book', 'Total_Relationship_Count',\n",
       "       'Months_Inactive_12_mon', 'Contacts_Count_12_mon', 'Credit_Limit',\n",
       "       'Total_Revolving_Bal', 'Avg_Open_To_Buy', 'Total_Amt_Chng_Q4_Q1',\n",
       "       'Total_Trans_Amt', 'Total_Trans_Ct', 'Total_Ct_Chng_Q4_Q1',\n",
       "       'Avg_Utilization_Ratio', 'Gender_F', 'Gender_M',\n",
       "       'Marital_Status_Divorced', 'Marital_Status_Married',\n",
       "       'Marital_Status_Single', 'Marital_Status_Unknown'],\n",
       "      dtype='object')"
      ]
     },
     "execution_count": 8,
     "metadata": {},
     "output_type": "execute_result"
    }
   ],
   "source": [
    "# Split the data into train and test sets\n",
    "from sklearn.model_selection import train_test_split\n",
    "\n",
    "X = df_encoded.drop([\"Attrition_Flag\",\"CLIENTNUM\"], axis=1)\n",
    "y = df_encoded[\"Attrition_Flag\"]\n",
    "y.replace(to_replace=[\"Existing Customer\", \"Attrited Customer\"], value=[0, 1], inplace=True)\n",
    "X_train, X_test, y_train, y_test = train_test_split(X, y, test_size=0.3, random_state=42)\n",
    "\n",
    "# Print training dataset\n",
    "X_train.columns"
   ]
  },
  {
   "cell_type": "markdown",
   "id": "fb095541",
   "metadata": {},
   "source": [
    "## 4. Model Training and Selection"
   ]
  },
  {
   "cell_type": "code",
   "execution_count": 15,
   "id": "73c509b6",
   "metadata": {},
   "outputs": [],
   "source": [
    "%%capture\n",
    "# Define the models to be tested\n",
    "models = {'Logistic Regression': LogisticRegression(),\n",
    "          'Decision Tree': DecisionTreeClassifier(),\n",
    "          'Random Forest': RandomForestClassifier()}\n",
    "\n",
    "# Define the resampling techniques to be tested\n",
    "resamplers = {'SMOTE': SMOTE(),\n",
    "              'Random Under Sampling': RandomUnderSampler(),\n",
    "              'Random Over Sampling': RandomOverSampler()}\n",
    "\n",
    "results = []\n",
    "# Iterate over each model\n",
    "# Note: It may take several minutes to run it\n",
    "for model_name, model in models.items():\n",
    "    \n",
    "    # Iterate over each resampling technique\n",
    "    for resampler_name, resampler in resamplers.items():\n",
    "        \n",
    "        # Resample the training data\n",
    "        X_train_resampled, y_train_resampled = resampler.fit_resample(X_train, y_train)\n",
    "        \n",
    "        # Apply feature selection with RFECV\n",
    "        selector = RFECV(model, step=1, min_features_to_select=5, cv=10)\n",
    "        selector.fit(X_train_resampled, y_train_resampled)\n",
    "        X_train_selected = selector.transform(X_train_resampled)\n",
    "        \n",
    "        # Fit the model on the selected features\n",
    "        pipeline = make_imb_pipeline(StandardScaler(), model)\n",
    "        pipeline.fit(X_train_selected, y_train_resampled)\n",
    "        \n",
    "        # Evaluate the model on the test set\n",
    "        X_test_selected = selector.transform(X_test)\n",
    "        y_pred = pipeline.predict(X_test_selected)\n",
    "        acc = accuracy_score(y_test, y_pred)\n",
    "        f1 = f1_score(y_test, y_pred)\n",
    "        precision = precision_score(y_test, y_pred)\n",
    "        recall = recall_score(y_test, y_pred)\n",
    "        \n",
    "        # Append the results to the list\n",
    "        results.append({'Model': model_name,\n",
    "                        'Resampling Technique': resampler_name,\n",
    "                        'Accuracy': acc,\n",
    "                        'Precision': precision,\n",
    "                        'Recall': recall,\n",
    "                        'F1 Score': f1})\n",
    "\n",
    "# Convert the results to a dataframe\n",
    "results_df = pd.DataFrame(results)"
   ]
  },
  {
   "cell_type": "code",
   "execution_count": 16,
   "id": "33618a24",
   "metadata": {
    "scrolled": true
   },
   "outputs": [
    {
     "data": {
      "text/html": [
       "<div>\n",
       "<style scoped>\n",
       "    .dataframe tbody tr th:only-of-type {\n",
       "        vertical-align: middle;\n",
       "    }\n",
       "\n",
       "    .dataframe tbody tr th {\n",
       "        vertical-align: top;\n",
       "    }\n",
       "\n",
       "    .dataframe thead th {\n",
       "        text-align: right;\n",
       "    }\n",
       "</style>\n",
       "<table border=\"1\" class=\"dataframe\">\n",
       "  <thead>\n",
       "    <tr style=\"text-align: right;\">\n",
       "      <th></th>\n",
       "      <th>Model</th>\n",
       "      <th>Resampling Technique</th>\n",
       "      <th>Accuracy</th>\n",
       "      <th>Precision</th>\n",
       "      <th>Recall</th>\n",
       "      <th>F1 Score</th>\n",
       "    </tr>\n",
       "  </thead>\n",
       "  <tbody>\n",
       "    <tr>\n",
       "      <th>0</th>\n",
       "      <td>Logistic Regression</td>\n",
       "      <td>SMOTE</td>\n",
       "      <td>0.849951</td>\n",
       "      <td>0.525707</td>\n",
       "      <td>0.824597</td>\n",
       "      <td>0.642072</td>\n",
       "    </tr>\n",
       "    <tr>\n",
       "      <th>1</th>\n",
       "      <td>Logistic Regression</td>\n",
       "      <td>Random Under Sampling</td>\n",
       "      <td>0.845673</td>\n",
       "      <td>0.516729</td>\n",
       "      <td>0.840726</td>\n",
       "      <td>0.640061</td>\n",
       "    </tr>\n",
       "    <tr>\n",
       "      <th>2</th>\n",
       "      <td>Logistic Regression</td>\n",
       "      <td>Random Over Sampling</td>\n",
       "      <td>0.840408</td>\n",
       "      <td>0.506667</td>\n",
       "      <td>0.842742</td>\n",
       "      <td>0.632854</td>\n",
       "    </tr>\n",
       "    <tr>\n",
       "      <th>3</th>\n",
       "      <td>Decision Tree</td>\n",
       "      <td>SMOTE</td>\n",
       "      <td>0.920369</td>\n",
       "      <td>0.715254</td>\n",
       "      <td>0.850806</td>\n",
       "      <td>0.777164</td>\n",
       "    </tr>\n",
       "    <tr>\n",
       "      <th>4</th>\n",
       "      <td>Decision Tree</td>\n",
       "      <td>Random Under Sampling</td>\n",
       "      <td>0.884172</td>\n",
       "      <td>0.596774</td>\n",
       "      <td>0.895161</td>\n",
       "      <td>0.716129</td>\n",
       "    </tr>\n",
       "    <tr>\n",
       "      <th>5</th>\n",
       "      <td>Decision Tree</td>\n",
       "      <td>Random Over Sampling</td>\n",
       "      <td>0.932873</td>\n",
       "      <td>0.810638</td>\n",
       "      <td>0.768145</td>\n",
       "      <td>0.788820</td>\n",
       "    </tr>\n",
       "    <tr>\n",
       "      <th>6</th>\n",
       "      <td>Random Forest</td>\n",
       "      <td>SMOTE</td>\n",
       "      <td>0.955577</td>\n",
       "      <td>0.864646</td>\n",
       "      <td>0.862903</td>\n",
       "      <td>0.863774</td>\n",
       "    </tr>\n",
       "    <tr>\n",
       "      <th>7</th>\n",
       "      <td>Random Forest</td>\n",
       "      <td>Random Under Sampling</td>\n",
       "      <td>0.929582</td>\n",
       "      <td>0.712991</td>\n",
       "      <td>0.951613</td>\n",
       "      <td>0.815199</td>\n",
       "    </tr>\n",
       "    <tr>\n",
       "      <th>8</th>\n",
       "      <td>Random Forest</td>\n",
       "      <td>Random Over Sampling</td>\n",
       "      <td>0.958868</td>\n",
       "      <td>0.900648</td>\n",
       "      <td>0.840726</td>\n",
       "      <td>0.869656</td>\n",
       "    </tr>\n",
       "  </tbody>\n",
       "</table>\n",
       "</div>"
      ],
      "text/plain": [
       "                 Model   Resampling Technique  Accuracy  Precision    Recall  \\\n",
       "0  Logistic Regression  SMOTE                  0.849951  0.525707   0.824597   \n",
       "1  Logistic Regression  Random Under Sampling  0.845673  0.516729   0.840726   \n",
       "2  Logistic Regression  Random Over Sampling   0.840408  0.506667   0.842742   \n",
       "3  Decision Tree        SMOTE                  0.920369  0.715254   0.850806   \n",
       "4  Decision Tree        Random Under Sampling  0.884172  0.596774   0.895161   \n",
       "5  Decision Tree        Random Over Sampling   0.932873  0.810638   0.768145   \n",
       "6  Random Forest        SMOTE                  0.955577  0.864646   0.862903   \n",
       "7  Random Forest        Random Under Sampling  0.929582  0.712991   0.951613   \n",
       "8  Random Forest        Random Over Sampling   0.958868  0.900648   0.840726   \n",
       "\n",
       "   F1 Score  \n",
       "0  0.642072  \n",
       "1  0.640061  \n",
       "2  0.632854  \n",
       "3  0.777164  \n",
       "4  0.716129  \n",
       "5  0.788820  \n",
       "6  0.863774  \n",
       "7  0.815199  \n",
       "8  0.869656  "
      ]
     },
     "execution_count": 16,
     "metadata": {},
     "output_type": "execute_result"
    }
   ],
   "source": [
    "results_df"
   ]
  },
  {
   "cell_type": "markdown",
   "id": "67d27cb1",
   "metadata": {},
   "source": [
    "The table above shows the performance of different classification models using different resampling techniques. The models were evaluated in terms of accuracy, F1 score, precision, and recall. The best model is:\n",
    "\n",
    "**Random Forest with Over Sampling:** This model obtained the best performance in terms of detecting false positives with an **accuracy of 0.959** and a **precision of 0.901**.\n",
    "\n",
    "However, we will continue to search for optimal performance. We will now focus on hyperparameter optimization to further refine these models. I will explore different combinations of hyperparameters using techniques such as cross-validation and randomized search to find the best set of hyperparameters."
   ]
  },
  {
   "cell_type": "markdown",
   "id": "3d529e7f",
   "metadata": {},
   "source": [
    "## 5. Model Optimization - Hyperparameter Tuning"
   ]
  },
  {
   "cell_type": "markdown",
   "id": "cb0a2318",
   "metadata": {},
   "source": [
    "Hyperparameters are parameters that must be set before training the model, such as the number of estimators in a random forest or the maximum depth of a decision tree.\n",
    "\n",
    "The Random Forest hyperparameters are considered as follows:\n",
    "* The number of estimators in the set (n_estimators).\n",
    "* The number of variables to consider for each node split (max_features).\n",
    "* The maximum depth number (max_depth).\n",
    "* The minimum number of observations required to split a node (min_samples_split).\n",
    "* The minimum number of observations required to be a leaf (min_samples_leaf).\n",
    "\n",
    "Hyperparameter optimization of Random Forest can be done using a grid search method. By finding the best hyperparameters, we can improve the performance of the model."
   ]
  },
  {
   "cell_type": "markdown",
   "id": "d320a9eb",
   "metadata": {},
   "source": [
    "### 5.1 Randomized Search"
   ]
  },
  {
   "cell_type": "markdown",
   "id": "588ee0f1",
   "metadata": {},
   "source": [
    "Randomized search is a method for searching for the best hyperparameters of a machine learning model.\n",
    "\n",
    "Rather than testing all possible combinations of hyperparameters, which can be very computationally expensive, random search performs a random selection of combinations. We can specify a probability distribution for each hyperparameter, and the random search will randomly draw values from these distributions. We then train the model with each combination of hyperparameters and evaluate its performance.\n",
    "\n",
    "Random search makes it possible to find efficient combinations of hyperparameters faster than exhaustive search. It can be used in conjunction with cross-validation to estimate model performance more robustly."
   ]
  },
  {
   "cell_type": "code",
   "execution_count": 17,
   "id": "e04ba768",
   "metadata": {},
   "outputs": [],
   "source": [
    "# Random Forest with Random Over Sampling\n",
    "resampler = RandomOverSampler()\n",
    "model = RandomForestClassifier()\n",
    "X_train_resampled, y_train_resampled = resampler.fit_resample(X_train, y_train)\n",
    "selector = RFECV(model, step=1, min_features_to_select=5, cv=10)\n",
    "selector.fit(X_train_resampled, y_train_resampled)\n",
    "X_train_selected = selector.transform(X_train_resampled)\n",
    "X_test_selected = selector.transform(X_test)"
   ]
  },
  {
   "cell_type": "code",
   "execution_count": 19,
   "id": "4adcf065",
   "metadata": {
    "scrolled": false
   },
   "outputs": [
    {
     "data": {
      "image/png": "[encoded data removed]",
      "text/plain": [
       "<Figure size 640x480 with 2 Axes>"
      ]
     },
     "metadata": {},
     "output_type": "display_data"
    },
    {
     "data": {
      "text/html": [
       "<div>\n",
       "<style scoped>\n",
       "    .dataframe tbody tr th:only-of-type {\n",
       "        vertical-align: middle;\n",
       "    }\n",
       "\n",
       "    .dataframe tbody tr th {\n",
       "        vertical-align: top;\n",
       "    }\n",
       "\n",
       "    .dataframe thead th {\n",
       "        text-align: right;\n",
       "    }\n",
       "</style>\n",
       "<table border=\"1\" class=\"dataframe\">\n",
       "  <thead>\n",
       "    <tr style=\"text-align: right;\">\n",
       "      <th></th>\n",
       "      <th>Accuracy</th>\n",
       "      <th>Precision</th>\n",
       "      <th>Recall</th>\n",
       "      <th>F1</th>\n",
       "    </tr>\n",
       "  </thead>\n",
       "  <tbody>\n",
       "    <tr>\n",
       "      <th>0</th>\n",
       "      <td>0.962375</td>\n",
       "      <td>0.923544</td>\n",
       "      <td>0.841263</td>\n",
       "      <td>0.868794</td>\n",
       "    </tr>\n",
       "  </tbody>\n",
       "</table>\n",
       "</div>"
      ],
      "text/plain": [
       "   Accuracy  Precision    Recall        F1\n",
       "0  0.962375  0.923544   0.841263  0.868794"
      ]
     },
     "execution_count": 19,
     "metadata": {},
     "output_type": "execute_result"
    }
   ],
   "source": [
    "# Define the model and hyperparameters to search over\n",
    "rf = RandomForestClassifier()\n",
    "param_dist = {\n",
    "    'n_estimators': [10, 50, 100, 200],\n",
    "    'max_features': ['sqrt', None],\n",
    "    'max_depth': [10, 20, 30, None],\n",
    "    'min_samples_split': [2,3,4,5,6,7],\n",
    "    'min_samples_leaf': [1,2,3,4,5,6]\n",
    "}\n",
    "\n",
    "# Perform randomized search\n",
    "search = RandomizedSearchCV(rf, param_distributions=param_dist, n_iter=50, scoring='recall', n_jobs=-1, cv=4, random_state=1)\n",
    "search.fit(X_train_selected , y_train_resampled)\n",
    "\n",
    "# Make predictions on test set\n",
    "y_pred = search.best_estimator_.predict(X_test_selected)\n",
    "\n",
    "# Generate confusion matrix\n",
    "cm = confusion_matrix(y_test, y_pred)\n",
    "sns.heatmap(cm, annot=True, fmt='g',cmap='coolwarm', xticklabels=False, yticklabels=False)\n",
    "plt.xlabel('Actual')\n",
    "plt.ylabel('Predicted')\n",
    "plt.title('Confusion Matrix')\n",
    "plt.show()\n",
    "\n",
    "# Calculate metrics and create dataframe\n",
    "accuracy = accuracy_score(y_test, y_pred)\n",
    "precision = precision_score(y_test, y_pred)\n",
    "recall = recall_score(y_test, y_pred)\n",
    "f1 = f1_score(y_test, y_pred)\n",
    "metrics_df = pd.DataFrame({'Accuracy': accuracy, 'Precision': precision, 'Recall': recall, 'F1': f1}, index=[0])\n",
    "metrics_df"
   ]
  },
  {
   "cell_type": "markdown",
   "id": "515703cb",
   "metadata": {},
   "source": [
    "For Random Forest with random oversampling (ROS) technique:\n",
    "\n",
    "Before randomized search for hyperparameters:\n",
    "* Accuracy is 0.959\n",
    "* Precision is 0.901\n",
    "* Recall is 0.841\n",
    "* F1 score is 0.870\n",
    "\n",
    "After randomized search for hyperparameters:\n",
    "* Accuracy is 0.962\n",
    "* Precision is 0.924\n",
    "* Recall is 0.841\n",
    "* F1 score is 0.869\n",
    "\n",
    "Comparing the results before and after randomized search, we can see that:\n",
    "* Recall and F1 score remained approximately the same\n",
    "* But accuracy and precision increased slightly after randomized search. \n",
    "\n",
    "This suggests that the randomized search of hyperparameters helped optimize the models and improve their performance."
   ]
  },
  {
   "cell_type": "code",
   "execution_count": 20,
   "id": "33924cc7",
   "metadata": {},
   "outputs": [
    {
     "name": "stdout",
     "output_type": "stream",
     "text": [
      "{'n_estimators': 50, 'min_samples_split': 2, 'min_samples_leaf': 1, 'max_features': None, 'max_depth': None}\n"
     ]
    }
   ],
   "source": [
    "print(search.best_params_)"
   ]
  },
  {
   "cell_type": "code",
   "execution_count": 21,
   "id": "78b1bba5",
   "metadata": {},
   "outputs": [
    {
     "data": {
      "text/html": [
       "<style>#sk-container-id-1 {color: black;background-color: white;}#sk-container-id-1 pre{padding: 0;}#sk-container-id-1 div.sk-toggleable {background-color: white;}#sk-container-id-1 label.sk-toggleable__label {cursor: pointer;display: block;width: 100%;margin-bottom: 0;padding: 0.3em;box-sizing: border-box;text-align: center;}#sk-container-id-1 label.sk-toggleable__label-arrow:before {content: \"▸\";float: left;margin-right: 0.25em;color: #696969;}#sk-container-id-1 label.sk-toggleable__label-arrow:hover:before {color: black;}#sk-container-id-1 div.sk-estimator:hover label.sk-toggleable__label-arrow:before {color: black;}#sk-container-id-1 div.sk-toggleable__content {max-height: 0;max-width: 0;overflow: hidden;text-align: left;background-color: #f0f8ff;}#sk-container-id-1 div.sk-toggleable__content pre {margin: 0.2em;color: black;border-radius: 0.25em;background-color: #f0f8ff;}#sk-container-id-1 input.sk-toggleable__control:checked~div.sk-toggleable__content {max-height: 200px;max-width: 100%;overflow: auto;}#sk-container-id-1 input.sk-toggleable__control:checked~label.sk-toggleable__label-arrow:before {content: \"▾\";}#sk-container-id-1 div.sk-estimator input.sk-toggleable__control:checked~label.sk-toggleable__label {background-color: #d4ebff;}#sk-container-id-1 div.sk-label input.sk-toggleable__control:checked~label.sk-toggleable__label {background-color: #d4ebff;}#sk-container-id-1 input.sk-hidden--visually {border: 0;clip: rect(1px 1px 1px 1px);clip: rect(1px, 1px, 1px, 1px);height: 1px;margin: -1px;overflow: hidden;padding: 0;position: absolute;width: 1px;}#sk-container-id-1 div.sk-estimator {font-family: monospace;background-color: #f0f8ff;border: 1px dotted black;border-radius: 0.25em;box-sizing: border-box;margin-bottom: 0.5em;}#sk-container-id-1 div.sk-estimator:hover {background-color: #d4ebff;}#sk-container-id-1 div.sk-parallel-item::after {content: \"\";width: 100%;border-bottom: 1px solid gray;flex-grow: 1;}#sk-container-id-1 div.sk-label:hover label.sk-toggleable__label {background-color: #d4ebff;}#sk-container-id-1 div.sk-serial::before {content: \"\";position: absolute;border-left: 1px solid gray;box-sizing: border-box;top: 0;bottom: 0;left: 50%;z-index: 0;}#sk-container-id-1 div.sk-serial {display: flex;flex-direction: column;align-items: center;background-color: white;padding-right: 0.2em;padding-left: 0.2em;position: relative;}#sk-container-id-1 div.sk-item {position: relative;z-index: 1;}#sk-container-id-1 div.sk-parallel {display: flex;align-items: stretch;justify-content: center;background-color: white;position: relative;}#sk-container-id-1 div.sk-item::before, #sk-container-id-1 div.sk-parallel-item::before {content: \"\";position: absolute;border-left: 1px solid gray;box-sizing: border-box;top: 0;bottom: 0;left: 50%;z-index: -1;}#sk-container-id-1 div.sk-parallel-item {display: flex;flex-direction: column;z-index: 1;position: relative;background-color: white;}#sk-container-id-1 div.sk-parallel-item:first-child::after {align-self: flex-end;width: 50%;}#sk-container-id-1 div.sk-parallel-item:last-child::after {align-self: flex-start;width: 50%;}#sk-container-id-1 div.sk-parallel-item:only-child::after {width: 0;}#sk-container-id-1 div.sk-dashed-wrapped {border: 1px dashed gray;margin: 0 0.4em 0.5em 0.4em;box-sizing: border-box;padding-bottom: 0.4em;background-color: white;}#sk-container-id-1 div.sk-label label {font-family: monospace;font-weight: bold;display: inline-block;line-height: 1.2em;}#sk-container-id-1 div.sk-label-container {text-align: center;}#sk-container-id-1 div.sk-container {/* jupyter's `normalize.less` sets `[hidden] { display: none; }` but bootstrap.min.css set `[hidden] { display: none !important; }` so we also need the `!important` here to be able to override the default hidden behavior on the sphinx rendered scikit-learn.org. See: https://github.com/scikit-learn/scikit-learn/issues/21755 */display: inline-block !important;position: relative;}#sk-container-id-1 div.sk-text-repr-fallback {display: none;}</style><div id=\"sk-container-id-1\" class=\"sk-top-container\"><div class=\"sk-text-repr-fallback\"><pre>RandomForestClassifier(max_depth=30, n_estimators=50)</pre><b>In a Jupyter environment, please rerun this cell to show the HTML representation or trust the notebook. <br />On GitHub, the HTML representation is unable to render, please try loading this page with nbviewer.org.</b></div><div class=\"sk-container\" hidden><div class=\"sk-item\"><div class=\"sk-estimator sk-toggleable\"><input class=\"sk-toggleable__control sk-hidden--visually\" id=\"sk-estimator-id-1\" type=\"checkbox\" checked><label for=\"sk-estimator-id-1\" class=\"sk-toggleable__label sk-toggleable__label-arrow\">RandomForestClassifier</label><div class=\"sk-toggleable__content\"><pre>RandomForestClassifier(max_depth=30, n_estimators=50)</pre></div></div></div></div></div>"
      ],
      "text/plain": [
       "RandomForestClassifier(max_depth=30, n_estimators=50)"
      ]
     },
     "execution_count": 21,
     "metadata": {},
     "output_type": "execute_result"
    }
   ],
   "source": [
    "# Tuned RandomOverSampling Model\n",
    "model1 = RandomForestClassifier(n_estimators=50, min_samples_split=2, min_samples_leaf=1, max_features='sqrt', max_depth=30)\n",
    "ROS = RandomOverSampler()\n",
    "X_train_resampled, y_train_resampled = ROS.fit_resample(X_train, y_train) \n",
    "model1.fit(X_train_resampled, y_train_resampled)"
   ]
  },
  {
   "cell_type": "markdown",
   "id": "9c13ebc6",
   "metadata": {},
   "source": [
    "## 6. Evaluation"
   ]
  },
  {
   "cell_type": "markdown",
   "id": "0591d95a",
   "metadata": {},
   "source": [
    "### 6.1 Computed Performance Metrics"
   ]
  },
  {
   "cell_type": "markdown",
   "id": "eb7d6803",
   "metadata": {},
   "source": [
    "Recall that we have following perforamce metrics calculated:\n",
    "* Accuracy is 0.962\n",
    "* Precision is 0.924\n",
    "* Recall is 0.841\n",
    "* F1 score is 0.869"
   ]
  },
  {
   "cell_type": "markdown",
   "id": "0df72326",
   "metadata": {},
   "source": [
    "### 6.2 ROC Curve"
   ]
  },
  {
   "cell_type": "markdown",
   "id": "6b9c193b",
   "metadata": {},
   "source": [
    "ROC curve is a useful tool for evaluating the performance of a binary classification model and for determining the best classification threshold to optimize the model's performance."
   ]
  },
  {
   "cell_type": "code",
   "execution_count": 22,
   "id": "2e55b396",
   "metadata": {
    "scrolled": false
   },
   "outputs": [
    {
     "data": {
      "image/png": "[encoded data removed]",
      "text/plain": [
       "<Figure size 2500x1200 with 1 Axes>"
      ]
     },
     "metadata": {},
     "output_type": "display_data"
    }
   ],
   "source": [
    "from sklearn.metrics import roc_curve, roc_auc_score\n",
    "\n",
    "# Predict using tuned RandomOverSampling model\n",
    "y_pred1 = model1.predict_proba(X_test)[:,1]\n",
    "fpr1, tpr1, _ = roc_curve(y_test, y_pred1)\n",
    "\n",
    "# Calculate AUC score\n",
    "auc1 = roc_auc_score(y_test, y_pred1)\n",
    "\n",
    "# Plot ROC curves \n",
    "plt.figure(figsize=(25, 12))\n",
    "plt.plot(fpr1, tpr1, label='Tuned RandomOverSampling Model')\n",
    "\n",
    "# Add diagonal line\n",
    "plt.plot([0, 1], [0, 1], linestyle='--', color='gray', label='Random Model')\n",
    "\n",
    "plt.xlabel('False Positive Rate', fontsize=18)\n",
    "plt.ylabel('True Positive Rate', fontsize=18)\n",
    "plt.legend()\n",
    "plt.title(f'Tuned RandomOverSampling Model AUC = {auc1:.3f} ')\n",
    "plt.show()"
   ]
  },
  {
   "cell_type": "markdown",
   "id": "82c936e2",
   "metadata": {},
   "source": [
    "The ROC curve showed that the performance with an AUC is 0.989 which is close to 1.0, and indicated a very good ability to discriminate between positive and negative classes."
   ]
  },
  {
   "cell_type": "markdown",
   "id": "cb3f2c3a",
   "metadata": {},
   "source": [
    "### 6.3 Evaluation Summary"
   ]
  },
  {
   "cell_type": "markdown",
   "id": "3e83fbac",
   "metadata": {},
   "source": [
    "In summary, the following performance metrics were evaluated:\n",
    "* AUC: 0.988\n",
    "* Accuracy is 0.962\n",
    "* Precision is 0.924\n",
    "* Recall is 0.841\n",
    "* F1 score is 0.869\n",
    "\n",
    "This suggest that the model, **Random Forest with Random Over Sampling technique**, is good at classifying imbalanced data from the bank churn dataset."
   ]
  }
 ],
 "metadata": {
  "kernelspec": {
   "display_name": "Python 3 (ipykernel)",
   "language": "python",
   "name": "python3"
  },
  "language_info": {
   "codemirror_mode": {
    "name": "ipython",
    "version": 3
   },
   "file_extension": ".py",
   "mimetype": "text/x-python",
   "name": "python",
   "nbconvert_exporter": "python",
   "pygments_lexer": "ipython3",
   "version": "3.11.4"
  }
 },
 "nbformat": 4,
 "nbformat_minor": 5
}
